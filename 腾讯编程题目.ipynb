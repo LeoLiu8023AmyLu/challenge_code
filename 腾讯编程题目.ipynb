{
 "cells": [
  {
   "cell_type": "markdown",
   "metadata": {},
   "source": [
    "# 腾讯编程练习题\n",
    "\n",
    "## 题目1 翻转数列\n",
    "\n",
    "```\n",
    "时间限制：1秒  \n",
    "空间限制：32768K  \n",
    "```\n",
    "\n",
    "小Q定义了一种数列称为翻转数列:  \n",
    "给定整数n和m, 满足n能被2m整除。对于一串连续递增整数数列1, 2, 3, 4..., 每隔m个符号翻转一次, 最初符号为'-';。  \n",
    "例如n = 8, m = 2, 数列就是: -1, -2, +3, +4, -5, -6, +7, +8.  \n",
    "而n = 4, m = 1, 数列就是: -1, +2, -3, + 4.  \n",
    "小Q现在希望你能帮他算算前n项和为多少。  \n",
    "\n",
    "**输入描述:**\n",
    "> 输入包括两个整数n和m(2 <= n <= 109, 1 <= m), 并且满足n能被2m整除。\n",
    "\n",
    "**输出描述:**\n",
    "> 输出一个整数, 表示前n项和。\n",
    "\n",
    "**输入例子1:**\n",
    "> 8 2\n",
    "\n",
    "**输出例子1:**\n",
    "> 8"
   ]
  },
  {
   "cell_type": "code",
   "execution_count": 1,
   "metadata": {},
   "outputs": [],
   "source": [
    "def test_1(n,m):\n",
    "    if n is None and m is None:\n",
    "        n,m =[int(item) for item in input().split(' ')]\n",
    "    sum_num = (m**2)*(n//(m*2))+ sum([ -num if idx%(m*2) < m else num for idx,num in enumerate(range(n-n%(m*2)+1,n+1))])\n",
    "    print(sum_num)"
   ]
  },
  {
   "cell_type": "code",
   "execution_count": 3,
   "metadata": {},
   "outputs": [
    {
     "name": "stdout",
     "output_type": "stream",
     "text": [
      "8\n",
      "-1\n",
      "-11\n",
      "0\n",
      "12\n"
     ]
    }
   ],
   "source": [
    "# -1 -2 +3 +4 -5 -6 +7 +8 -9 -10 +11 +12\n",
    "test_1(8,2) \n",
    "test_1(9,2)\n",
    "test_1(10,2)\n",
    "test_1(11,2)\n",
    "test_1(12,2)"
   ]
  },
  {
   "cell_type": "markdown",
   "metadata": {},
   "source": [
    "## 题目2 纸牌游戏\n",
    "\n",
    "```\n",
    "时间限制：1秒\n",
    "空间限制：32768K\n",
    "```\n",
    "\n",
    "牛牛和羊羊正在玩一个纸牌游戏。这个游戏一共有n张纸牌, 第i张纸牌上写着数字$a_i$。   \n",
    "牛牛和羊羊轮流抽牌, 牛牛先抽, 每次抽牌他们可以从纸牌堆中任意选择一张抽出, 直到纸牌被抽完。   \n",
    "他们的得分等于他们抽到的纸牌数字总和。  \n",
    "现在假设牛牛和羊羊都采用最优策略, 请你计算出游戏结束后牛牛得分减去羊羊得分等于多少。  \n",
    "\n",
    "\n",
    "**输入描述:**  \n",
    "> 输入包括两行。  \n",
    "> 第一行包括一个正整数n(1 <= n <= 105),表示纸牌的数量。  \n",
    "> 第二行包括n个正整数 $a_i$(1 <= $a_i$ <= 109),表示每张纸牌上的数字。  \n",
    "\n",
    "**输出描述:**\n",
    "> 输出一个整数, 表示游戏结束后牛牛得分减去羊羊得分等于多少。\n",
    "\n",
    "**输入例子1:**\n",
    "> 3  \n",
    "> 2 7 4\n",
    "\n",
    "**输出例子1: **\n",
    "> 5"
   ]
  },
  {
   "cell_type": "code",
   "execution_count": 5,
   "metadata": {},
   "outputs": [
    {
     "name": "stdout",
     "output_type": "stream",
     "text": [
      "5\n",
      "1 2 3 4 5\n",
      "3\n"
     ]
    }
   ],
   "source": [
    "card_num = int(input())\n",
    "card_value = [int(item) for item in input().split(' ')][:card_num]\n",
    "card_value.sort(reverse = True)\n",
    "niu_sum ,yang_sum = 0,0\n",
    "for idx,num in enumerate(card_value):\n",
    "    if idx %2 ==0:\n",
    "        niu_sum += num\n",
    "    else:\n",
    "        yang_sum += num\n",
    "print(niu_sum-yang_sum)"
   ]
  },
  {
   "cell_type": "markdown",
   "metadata": {},
   "source": [
    "## 题目3 贪吃的小Q\n",
    "\n",
    "```\n",
    "时间限制：1秒\n",
    "空间限制：32768K\n",
    "```\n",
    "\n",
    "小Q的父母要出差N天，走之前给小Q留下了M块巧克力。  \n",
    "小Q决定每天吃的巧克力数量不少于前一天吃的一半，但是他又不想在父母回来之前的某一天没有巧克力吃，  \n",
    "请问他第一天最多能吃多少块巧克力?\n",
    "\n",
    "**输入描述:**\n",
    "> 每个输入包含一个测试用例。  \n",
    "> 每个测试用例的第一行包含两个正整数，表示父母出差的天数N(N<=50000)和巧克力的数量M(N<=M<=100000)。\n",
    "\n",
    "**输出描述:**\n",
    "> 输出一个数表示小Q第一天最多能吃多少块巧克力。\n",
    "\n",
    "**输入例子1:**\n",
    "> 3 7\n",
    "\n",
    "**输出例子1:**\n",
    "> 4"
   ]
  },
  {
   "cell_type": "code",
   "execution_count": 12,
   "metadata": {},
   "outputs": [
    {
     "name": "stdout",
     "output_type": "stream",
     "text": [
      "3 10\n",
      "5\n"
     ]
    }
   ],
   "source": [
    "N,M = [int(item) for item in input().split(' ')]\n",
    "day1_eat = M\n",
    "max_eat = M\n",
    "while day1_eat >= 0:\n",
    "    days = N \n",
    "    eat = 0\n",
    "    every_day_eat = day1_eat\n",
    "    while days > 0:\n",
    "        eat += every_day_eat\n",
    "        every_day_eat = int(every_day_eat/2) if every_day_eat % 2 == 0 else int(every_day_eat/2) + 1\n",
    "        days -= 1\n",
    "        if every_day_eat == 1:\n",
    "            eat += days\n",
    "            break\n",
    "    if eat <= M:\n",
    "        max_eat = day1_eat\n",
    "        break\n",
    "    day1_eat -= 1\n",
    "print(max_eat)"
   ]
  },
  {
   "cell_type": "code",
   "execution_count": 19,
   "metadata": {},
   "outputs": [
    {
     "name": "stdout",
     "output_type": "stream",
     "text": [
      "2 10\n",
      "6\n"
     ]
    }
   ],
   "source": [
    "import math\n",
    "\n",
    "N,M = [int(item) for item in input().split(' ')]\n",
    "Max_eat = M\n",
    "All_Eat = sum([ math.ceil(Max_eat/(2**day)) for day in range(N)])\n",
    "while All_Eat > M:\n",
    "    Max_eat-=1\n",
    "    All_Eat = sum([ math.ceil(Max_eat/(2**day)) for day in range(N)])\n",
    "print(Max_eat)"
   ]
  },
  {
   "cell_type": "markdown",
   "metadata": {},
   "source": [
    "## 题目4 小Q的歌单 \n",
    "\n",
    "```\n",
    "时间限制：1秒  \n",
    "空间限制：32768K\n",
    "```\n",
    "\n",
    "小Q有X首长度为A的不同的歌和Y首长度为B的不同的歌，现在小Q想用这些歌组成一个总长度正好为K的歌单，每首歌最多只能在歌单中出现一次，在不考虑歌单内歌曲的先后顺序的情况下，请问有多少种组成歌单的方法。\n",
    "\n",
    "**输入描述:**\n",
    ">每个输入包含一个测试用例。  \n",
    ">每个测试用例的第一行包含一个整数，表示歌单的总长度K(1<=K<=1000)。  \n",
    ">接下来的一行包含四个正整数，分别表示歌的第一种长度A(A<=10)和数量X(X<=100)以及歌的第二种长度B(B<=10)和数量Y(Y<=100)。保证A不等于B。  \n",
    "\n",
    "**输出描述:**\n",
    "> 输出一个整数,表示组成歌单的方法取模。因为答案可能会很大,输出对1000000007取模的结果。\n",
    "\n",
    "**输入例子1:**\n",
    "> 5  \n",
    "> 2 3 3 3\n",
    "\n",
    "**输出例子1:**\n",
    "> 9"
   ]
  },
  {
   "cell_type": "code",
   "execution_count": 43,
   "metadata": {},
   "outputs": [
    {
     "name": "stdout",
     "output_type": "stream",
     "text": [
      "205\n",
      "1 92 4 92\n",
      "580636981\n"
     ]
    }
   ],
   "source": [
    "mod = 1000000007\n",
    "n=500\n",
    "comb=dict() # 杨辉三角\n",
    "for i in range(n):\n",
    "    comb[(0,i)]=1\n",
    "    comb[(i,i)]=1\n",
    "for i in range(1,n):\n",
    "    for j in range(1,i):\n",
    "        comb[(j,i)]=(comb[(j-1,i-1)]+comb[(j,i-1)])% mod\n",
    "\n",
    "def Get_Match(A,A_N,B,B_N,K):\n",
    "    Match_List = []\n",
    "    for a_n in range(A_N+1):\n",
    "        for b_n in range(B_N +1):\n",
    "            if A * a_n + B*b_n == K:\n",
    "                Match_List.append((a_n,b_n))\n",
    "    return Match_List\n",
    "\n",
    "def C(a,b):\n",
    "    return comb[(b,a)]\n",
    "\n",
    "K = int(input())\n",
    "A,A_N,B,B_N = [int(item) for item in input().split(' ')]\n",
    "Match_List = Get_Match(A,A_N,B,B_N,K)\n",
    "if len(Match_List) ==0 :\n",
    "    print(0)\n",
    "else:\n",
    "    result = 0\n",
    "    for a_n,b_n in Match_List:\n",
    "        result = (result+C(A_N,a_n)*C(B_N,b_n))%mod\n",
    "    result = int(result)%mod\n",
    "    print(result)"
   ]
  },
  {
   "cell_type": "code",
   "execution_count": 35,
   "metadata": {},
   "outputs": [
    {
     "name": "stdout",
     "output_type": "stream",
     "text": [
      "205\n",
      "1 92 4 92\n",
      "580636981\n"
     ]
    }
   ],
   "source": [
    "# 对的解决方法\n",
    "\n",
    "size=int(input())\n",
    "a,a_cnt,b,b_cnt=tuple([int(e) for e in input().split()])\n",
    "mod=1000000007\n",
    "n=500\n",
    "# 杨辉三角？\n",
    "comb=dict()\n",
    "for i in range(n):\n",
    "    comb[(0,i)]=1\n",
    "    comb[(i,i)]=1\n",
    "for i in range(1,n):\n",
    "    for j in range(1,i):\n",
    "        comb[(j,i)]=(comb[(j-1,i-1)]+comb[(j,i-1)])% mod\n",
    " \n",
    "def solve(size,a,a_cnt,b,b_cnt):\n",
    "    ans=0%mod\n",
    "    for a_c in range(a_cnt+1): #别忘了加1\n",
    "        if size-a_c*a>=0 and (size-a_c*a)%b==0 and (size-a_c*a)//b<=b_cnt:\n",
    "            b_c=(size-a_c*a)//b\n",
    "            ans=(ans+comb[(a_c,a_cnt)]*comb[(b_c,b_cnt)])%mod\n",
    "    return ans%mod\n",
    " \n",
    "print(solve(size,a,a_cnt,b,b_cnt))"
   ]
  },
  {
   "cell_type": "markdown",
   "metadata": {},
   "source": [
    "## 题目4 安排机器\n",
    "\n",
    "```\n",
    "时间限制：1秒\n",
    "空间限制：32768K\n",
    "```\n",
    "\n",
    "小Q的公司最近接到m个任务, 第i个任务需要xi的时间去完成, 难度等级为$y_i$。  \n",
    "小Q拥有n台机器, 每台机器最长工作时间$z_i$, 机器等级$w_i$。    \n",
    "对于一个任务,它只能交由一台机器来完成, 如果安排给它的机器的最长工作时间小于任务需要的时间, 则不能完成,如果完成这个任务将获得200 * $x_i$ + 3 * $y_i$收益。    \n",
    "\n",
    "对于一台机器,它一天只能完成一个任务, 如果它的机器等级小于安排给它的任务难度等级, 则不能完成。  \n",
    "\n",
    "小Q想在今天尽可能的去完成任务, 即完成的任务数量最大。如果有多种安排方案,小Q还想找到收益最大的那个方案。小Q需要你来帮助他计算一下。  \n",
    "\n",
    "\n",
    "**输入描述:**\n",
    "> 输入包括N + M + 1行,  \n",
    "> 输入的第一行为两个正整数n和m(1 <= n, m <= 100000), 表示机器的数量和任务的数量。  \n",
    "> 接下来n行,每行两个整数zi和wi(0 < zi < 1000, 0 <= wi <= 100), 表示每台机器的最大工作时间和机器等级。  \n",
    "> 接下来的m行,每行两个整数xi和yi(0 < xi < 1000, 0 <= yi<= 100), 表示每个任务需要的完成时间和任务的难度等级。  \n",
    "\n",
    "**输出描述:**\n",
    "> 输出两个整数, 分别表示最大能完成的任务数量和获取的收益。  \n",
    "\n",
    "**输入例子1:**\n",
    "> 1 2  \n",
    "> 100 3  \n",
    "> 100 2  \n",
    "> 100 1  \n",
    "\n",
    "**输出例子1:**\n",
    "> 1 20006"
   ]
  }
 ],
 "metadata": {
  "kernelspec": {
   "display_name": "Python 3",
   "language": "python",
   "name": "python3"
  },
  "language_info": {
   "codemirror_mode": {
    "name": "ipython",
    "version": 3
   },
   "file_extension": ".py",
   "mimetype": "text/x-python",
   "name": "python",
   "nbconvert_exporter": "python",
   "pygments_lexer": "ipython3",
   "version": "3.6.5"
  }
 },
 "nbformat": 4,
 "nbformat_minor": 2
}
